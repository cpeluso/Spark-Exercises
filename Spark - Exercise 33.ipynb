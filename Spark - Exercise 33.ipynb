{
 "cells": [
  {
   "cell_type": "code",
   "execution_count": 4,
   "metadata": {},
   "outputs": [],
   "source": [
    "from pyspark import SparkConf, SparkContext\n",
    "import sys\n",
    "\n",
    "\n",
    "conf = SparkConf().setAppName(\"Spark Application\")\n",
    "sc = SparkContext(conf=conf)"
   ]
  },
  {
   "cell_type": "code",
   "execution_count": 9,
   "metadata": {},
   "outputs": [
    {
     "name": "stdout",
     "output_type": "stream",
     "text": [
      "['60.2', '55.5', '52.5']\n"
     ]
    }
   ],
   "source": [
    "# Read the content of a log file\n",
    "inputRDD = sc.textFile(\"sensors.txt\")\n",
    "\n",
    "temperaturesRDD = inputRDD.map(lambda s : s.split(\",\")[2])\n",
    "\n",
    "temperatures = temperaturesRDD.collect()\n",
    "\n",
    "k = 3\n",
    "\n",
    "print(sorted(set(temperatures), reverse= True)[0:k])"
   ]
  }
 ],
 "metadata": {
  "kernelspec": {
   "display_name": "Python 3",
   "language": "python",
   "name": "python3"
  },
  "language_info": {
   "codemirror_mode": {
    "name": "ipython",
    "version": 3
   },
   "file_extension": ".py",
   "mimetype": "text/x-python",
   "name": "python",
   "nbconvert_exporter": "python",
   "pygments_lexer": "ipython3",
   "version": "3.7.6"
  }
 },
 "nbformat": 4,
 "nbformat_minor": 4
}
