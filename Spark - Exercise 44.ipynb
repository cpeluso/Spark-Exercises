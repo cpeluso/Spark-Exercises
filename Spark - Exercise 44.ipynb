{
 "cells": [
  {
   "cell_type": "code",
   "execution_count": 1,
   "metadata": {},
   "outputs": [],
   "source": [
    "from pyspark import SparkConf, SparkContext\n",
    "import sys\n",
    "\n",
    "conf = SparkConf().setAppName(\"Spark Application\")\n",
    "sc = SparkContext(conf=conf)"
   ]
  },
  {
   "cell_type": "code",
   "execution_count": 4,
   "metadata": {},
   "outputs": [
    {
     "name": "stdout",
     "output_type": "stream",
     "text": [
      "user2\n"
     ]
    }
   ],
   "source": [
    "# A textual file containing the list of movies watched by the users of a video on demand service\n",
    "## userid,movieid,start-timestamp,end-timestamp\n",
    "\n",
    "# A second textual file containing the list of preferences for each user\n",
    "## userid,movie-genre\n",
    "\n",
    "# A third textual file containing the list of movies with the associated information\n",
    "## movieid,title,movie-genre\n",
    "\n",
    "# Select the userids of the list of users with a misleading profile\n",
    "## A user has a misleading profile if more than threshold% of the movies he/she watched \n",
    "##       are not associated with a movie genre he/she likes\n",
    "\n",
    "threshold = 0.0\n",
    "\n",
    "# user_id, (user_id) user_preferred_movie_genre, (movie_id) watched_movie_genre\n",
    "\n",
    "watchedMoviesRDD = sc.textFile(\"watchedmovies.txt\")\n",
    "\n",
    "movieUserPairRDD = watchedMoviesRDD\\\n",
    "\t.map(lambda line:  (line.split(\",\")[1], line.split(\",\")[0])) # movie_id, user_id\n",
    "\n",
    "\n",
    "moviesRDD = sc.textFile(\"movies.txt\")\n",
    "\n",
    "movieGenrePairRDD = moviesRDD\\\n",
    "\t.map(lambda line:  (line.split(\",\")[0], line.split(\",\")[2])) # movie_id, movie_genre\n",
    "\n",
    "\n",
    "joinWatchedGenreRDD = movieUserPairRDD.join(movieGenrePairRDD) # movie_id, (user_id, movie_genre)\n",
    "\n",
    "usersWatchedGenresRDD = joinWatchedGenreRDD.map(lambda pair: (pair[1][0], pair[1][1]))\n",
    "\n",
    "# - - -\n",
    "\n",
    "preferencesRDD = sc.textFile(\"preferences.txt\")\n",
    "\n",
    "userLikedGenresRDD = preferencesRDD\\\n",
    "\t.map(lambda line:  (line.split(\",\")[0], line.split(\",\")[1])) # user_id, movie_genre\n",
    "\n",
    "# Cogroup the lists of watched and liked genres for each user\n",
    "# There is one pair for each userid\n",
    "# the value contains the list of genres (with repetitions) of the\n",
    "# watched movies and the list of liked genres\n",
    "userWatchedLikedGenres = usersWatchedGenresRDD.cogroup(userLikedGenresRDD)\n",
    "\n",
    "# Filter the users with a misleading profile\n",
    "misleadingUsersListsRDD = userWatchedLikedGenres.filter(misleadingProfileFunc)\n",
    "\n",
    "# Select only the userid of the users with a misleading profile\n",
    "misleadingUsersRDD = misleadingUsersListsRDD.keys()\n",
    "\n",
    "for user in misleadingUsersRDD.collect():\n",
    "    print(user)\n",
    "    "
   ]
  },
  {
   "cell_type": "code",
   "execution_count": 3,
   "metadata": {},
   "outputs": [],
   "source": [
    "def misleadingProfileFunc(userWatchedLikedGenresLists):\n",
    "    # Store in a local list the \"small\" set of liked genres\n",
    "    # associated with the current user\n",
    "    likedGenres = list(userWatchedLikedGenresLists[1][1])\n",
    "    \n",
    "    # Iterate over the watched movies (the genres of the watched movies)and count\n",
    "    # - The number of watched movies for this user\n",
    "    # - How many of watched movies are associated with a not liked genre\n",
    "    numWatchedMovies = 0\n",
    "    notLiked = 0\n",
    "   \n",
    "    for watchedGenre in userWatchedLikedGenresLists[1][0]:\n",
    "        numWatchedMovies = numWatchedMovies+1\n",
    "        if watchedGenre not in likedGenres:\n",
    "            notLiked = notLiked+1\n",
    "            \n",
    "    # Check if the number of watched movies associated with a non-liked genre\n",
    "    # is greater that threshold%\n",
    "    if float(notLiked) > 0.0 * float(numWatchedMovies):\n",
    "        return True\n",
    "    else: \n",
    "        return False"
   ]
  }
 ],
 "metadata": {
  "kernelspec": {
   "display_name": "Python 3",
   "language": "python",
   "name": "python3"
  },
  "language_info": {
   "codemirror_mode": {
    "name": "ipython",
    "version": 3
   },
   "file_extension": ".py",
   "mimetype": "text/x-python",
   "name": "python",
   "nbconvert_exporter": "python",
   "pygments_lexer": "ipython3",
   "version": "3.7.6"
  }
 },
 "nbformat": 4,
 "nbformat_minor": 4
}
