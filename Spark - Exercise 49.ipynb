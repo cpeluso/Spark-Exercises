{
 "cells": [
  {
   "cell_type": "code",
   "execution_count": 1,
   "metadata": {},
   "outputs": [],
   "source": [
    "from pyspark.sql import SparkSession\n",
    "\n",
    "spark = SparkSession.builder.getOrCreate()"
   ]
  },
  {
   "cell_type": "code",
   "execution_count": 13,
   "metadata": {},
   "outputs": [
    {
     "name": "stdout",
     "output_type": "stream",
     "text": [
      "Paolo,Garza,[40-49]\n",
      "Luca,Boccia,[40-49]\n",
      "Maura,Bianchi,[10-19]\n"
     ]
    }
   ],
   "source": [
    "dfProfiles = spark.read.load(\"profiles.csv\",\\\n",
    "                     format=\"csv\",\\\n",
    "                     header=True,\\\n",
    "                     inferSchema=True)\n",
    "\n",
    "profilesRDD = dfProfiles.rdd\n",
    "\n",
    "mappedProfilesRDD = profilesRDD\\\n",
    "\t.map(lambda row:\\\n",
    "\trow[\"name\"] + \",\" + \\\n",
    "\trow[\"surname\"] + \",\" + \\\n",
    "\t\"[\" + str(int(row[\"age\"]/10)*10) + \"-\" + str(int(row[\"age\"]/10)*10 +9) + \"]\")\n",
    "\n",
    "for profile in mappedProfilesRDD.collect():\n",
    "    print(profile)"
   ]
  }
 ],
 "metadata": {
  "kernelspec": {
   "display_name": "Python 3",
   "language": "python",
   "name": "python3"
  },
  "language_info": {
   "codemirror_mode": {
    "name": "ipython",
    "version": 3
   },
   "file_extension": ".py",
   "mimetype": "text/x-python",
   "name": "python",
   "nbconvert_exporter": "python",
   "pygments_lexer": "ipython3",
   "version": "3.7.6"
  }
 },
 "nbformat": 4,
 "nbformat_minor": 4
}
