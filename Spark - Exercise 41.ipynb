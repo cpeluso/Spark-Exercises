{
 "cells": [
  {
   "cell_type": "code",
   "execution_count": 2,
   "metadata": {},
   "outputs": [],
   "source": [
    "from pyspark import SparkConf, SparkContext\n",
    "import sys\n",
    "\n",
    "conf = SparkConf().setAppName(\"Spark Application\")\n",
    "sc = SparkContext(conf=conf)"
   ]
  },
  {
   "cell_type": "code",
   "execution_count": 12,
   "metadata": {},
   "outputs": [
    {
     "name": "stdout",
     "output_type": "stream",
     "text": [
      "2 s1\n",
      "1 s2\n"
     ]
    }
   ],
   "source": [
    "# Read the content of a log file\n",
    "inputRDD = sc.textFile(\"sensors.txt\")\n",
    "\n",
    "k = 2\n",
    "\n",
    "criticalDaysRDD = inputRDD.filter(lambda value: float(value.split(\",\")[2]) > 50)\n",
    "pairRDD = criticalDaysRDD.map(lambda value: ( value.split(\",\")[0], value.split(\",\")[2]) ).groupByKey()\n",
    "criticalDaysPairRDD = pairRDD.map(lambda pair: (len(list(pair[1])), pair[0])).sortByKey(False)\n",
    "\n",
    "for pair in criticalDaysPairRDD.take(k):\n",
    "    print(pair[0], pair[1])\n"
   ]
  }
 ],
 "metadata": {
  "kernelspec": {
   "display_name": "Python 3",
   "language": "python",
   "name": "python3"
  },
  "language_info": {
   "codemirror_mode": {
    "name": "ipython",
    "version": 3
   },
   "file_extension": ".py",
   "mimetype": "text/x-python",
   "name": "python",
   "nbconvert_exporter": "python",
   "pygments_lexer": "ipython3",
   "version": "3.7.6"
  }
 },
 "nbformat": 4,
 "nbformat_minor": 4
}
