{
 "cells": [
  {
   "cell_type": "code",
   "execution_count": 1,
   "metadata": {},
   "outputs": [],
   "source": [
    "from pyspark import SparkConf, SparkContext\n",
    "import sys\n",
    "\n",
    "\n",
    "conf = SparkConf().setAppName(\"Spark Application\")\n",
    "sc = SparkContext(conf=conf)"
   ]
  },
  {
   "cell_type": "code",
   "execution_count": 15,
   "metadata": {},
   "outputs": [
    {
     "name": "stdout",
     "output_type": "stream",
     "text": [
      "66.249.69.97 -- [24/Sep/2014:22:25:44 +0000] \"GET http://www.google.com/bot.html\"\n",
      "66.249.69.97 -- [24/Sep/2014:22:26:44 +0000] \"GET http://www.google.com/how.html\"\n",
      "71.19.157.179 -- [24/Sep/2014:22:30:12 +0000] \"GET http://www.google.com/faq.html\"\n"
     ]
    }
   ],
   "source": [
    "# Read the content of a log file\n",
    "inputRDD = sc.textFile(\"log.txt\")\n",
    "\n",
    "# Select the rows containing the word \"error\"\n",
    "googleRDD = inputRDD.filter( lambda line: line.find(\"google\") >= 0 )\n",
    "\n",
    "numOfLines = googleRDD.count()\n",
    "\n",
    "for g in googleRDD.collect():\n",
    "    print(g)"
   ]
  }
 ],
 "metadata": {
  "kernelspec": {
   "display_name": "Python 3",
   "language": "python",
   "name": "python3"
  },
  "language_info": {
   "codemirror_mode": {
    "name": "ipython",
    "version": 3
   },
   "file_extension": ".py",
   "mimetype": "text/x-python",
   "name": "python",
   "nbconvert_exporter": "python",
   "pygments_lexer": "ipython3",
   "version": "3.7.6"
  }
 },
 "nbformat": 4,
 "nbformat_minor": 4
}
