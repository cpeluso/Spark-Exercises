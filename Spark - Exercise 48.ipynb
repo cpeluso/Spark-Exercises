{
 "cells": [
  {
   "cell_type": "code",
   "execution_count": 2,
   "metadata": {},
   "outputs": [],
   "source": [
    "from pyspark.sql import SparkSession\n",
    "\n",
    "spark = SparkSession.builder.getOrCreate()"
   ]
  },
  {
   "cell_type": "code",
   "execution_count": 30,
   "metadata": {},
   "outputs": [
    {
     "name": "stdout",
     "output_type": "stream",
     "text": [
      "Row(name='Susan', count(name)=2, avg(age)=37.0)\n",
      "Row(name='Paul', count(name)=2, avg(age)=39.0)\n"
     ]
    }
   ],
   "source": [
    "# Create a DataFrame for \"persons.csv\"\n",
    "df = spark.read.load(\"persons.csv\", format = \"csv\", header = True, inferSchema = True) \n",
    "\n",
    "filteredDf = df.groupBy(\"name\").agg({\"name\": \"count\", \"age\": \"avg\"}).filter(\"count(name) > 1\")\n",
    "\n",
    "for row in filteredDf.rdd.collect():\n",
    "    print(row)\n"
   ]
  },
  {
   "cell_type": "code",
   "execution_count": 24,
   "metadata": {},
   "outputs": [
    {
     "name": "stdout",
     "output_type": "stream",
     "text": [
      "Row(name='Susan', myavg=37.0)\n",
      "Row(name='Paul', myavg=39.0)\n"
     ]
    }
   ],
   "source": [
    "table = df.createOrReplaceTempView(\"Persons\")\n",
    "\n",
    "filteredTable = spark.sql(\"\"\"SELECT name, avg(age) as myavg\n",
    "FROM persons\n",
    "GROUP BY name\n",
    "HAVING count(*)>=2\"\"\")\n",
    "\n",
    "for row in filteredTable.rdd.collect():\n",
    "    print(row)\n"
   ]
  },
  {
   "cell_type": "code",
   "execution_count": null,
   "metadata": {},
   "outputs": [],
   "source": [
    "spark.stop()"
   ]
  }
 ],
 "metadata": {
  "kernelspec": {
   "display_name": "Python 3",
   "language": "python",
   "name": "python3"
  },
  "language_info": {
   "codemirror_mode": {
    "name": "ipython",
    "version": 3
   },
   "file_extension": ".py",
   "mimetype": "text/x-python",
   "name": "python",
   "nbconvert_exporter": "python",
   "pygments_lexer": "ipython3",
   "version": "3.7.6"
  }
 },
 "nbformat": 4,
 "nbformat_minor": 4
}
