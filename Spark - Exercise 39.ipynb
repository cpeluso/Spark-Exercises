{
 "cells": [
  {
   "cell_type": "code",
   "execution_count": 1,
   "metadata": {},
   "outputs": [],
   "source": [
    "from pyspark import SparkConf, SparkContext\n",
    "import sys\n",
    "\n",
    "conf = SparkConf().setAppName(\"Spark Application\")\n",
    "sc = SparkContext(conf=conf)"
   ]
  },
  {
   "cell_type": "code",
   "execution_count": 23,
   "metadata": {},
   "outputs": [
    {
     "name": "stdout",
     "output_type": "stream",
     "text": [
      "s1 ['2016-01-02', '2016-01-03']\n",
      "s2 ['2016-01-03']\n"
     ]
    }
   ],
   "source": [
    "# Read the content of a log file\n",
    "inputRDD = sc.textFile(\"sensors.txt\")\n",
    "\n",
    "# Each line contains a sensorId and the list of dates \n",
    "# with a PM10 values greater than 50 for that sensor\n",
    "\n",
    "PM10Threshold = 50\n",
    "\n",
    "filteredRDD = inputRDD.filter(lambda line : float(line.split(\",\")[2]) > PM10Threshold)\n",
    "\n",
    "filteredPairRDD = filteredRDD.map(lambda line: (str(line.split(\",\")[0]), line.split(\",\")[1])).groupByKey()\n",
    "    \n",
    "for pair in filteredPairRDD.collect():\n",
    "    print(pair[0], [date for date in pair[1]])"
   ]
  }
 ],
 "metadata": {
  "kernelspec": {
   "display_name": "Python 3",
   "language": "python",
   "name": "python3"
  },
  "language_info": {
   "codemirror_mode": {
    "name": "ipython",
    "version": 3
   },
   "file_extension": ".py",
   "mimetype": "text/x-python",
   "name": "python",
   "nbconvert_exporter": "python",
   "pygments_lexer": "ipython3",
   "version": "3.7.6"
  }
 },
 "nbformat": 4,
 "nbformat_minor": 4
}
