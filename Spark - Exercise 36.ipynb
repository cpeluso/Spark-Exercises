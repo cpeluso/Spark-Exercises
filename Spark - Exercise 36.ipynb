{
 "cells": [
  {
   "cell_type": "code",
   "execution_count": 1,
   "metadata": {},
   "outputs": [],
   "source": [
    "from pyspark import SparkConf, SparkContext\n",
    "import sys\n",
    "\n",
    "\n",
    "conf = SparkConf().setAppName(\"Spark Application\")\n",
    "sc = SparkContext(conf=conf)"
   ]
  },
  {
   "cell_type": "code",
   "execution_count": 12,
   "metadata": {},
   "outputs": [
    {
     "name": "stdout",
     "output_type": "stream",
     "text": [
      "39.86666666666667\n"
     ]
    }
   ],
   "source": [
    "# Read the content of a log file\n",
    "inputRDD = sc.textFile(\"sensors.txt\")\n",
    "\n",
    "sensorsRDD = inputRDD.map(lambda s: s.split(\",\")[2])\n",
    "\n",
    "num_measurements = sensorsRDD.count()\n",
    "\n",
    "sum_measurements = sensorsRDD.reduce(lambda value1, value2: float(value1) + float(value2))\n",
    "\n",
    "average = sum_measurements/num_measurements \n",
    "print( average )"
   ]
  }
 ],
 "metadata": {
  "kernelspec": {
   "display_name": "Python 3",
   "language": "python",
   "name": "python3"
  },
  "language_info": {
   "codemirror_mode": {
    "name": "ipython",
    "version": 3
   },
   "file_extension": ".py",
   "mimetype": "text/x-python",
   "name": "python",
   "nbconvert_exporter": "python",
   "pygments_lexer": "ipython3",
   "version": "3.7.6"
  }
 },
 "nbformat": 4,
 "nbformat_minor": 4
}
