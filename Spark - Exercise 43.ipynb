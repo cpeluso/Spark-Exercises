{
 "cells": [
  {
   "cell_type": "code",
   "execution_count": 1,
   "metadata": {},
   "outputs": [],
   "source": [
    "from pyspark import SparkConf, SparkContext\n",
    "import sys\n",
    "\n",
    "conf = SparkConf().setAppName(\"Spark Application\")\n",
    "sc = SparkContext(conf=conf)"
   ]
  },
  {
   "cell_type": "code",
   "execution_count": 2,
   "metadata": {},
   "outputs": [],
   "source": [
    "timeslotDictionary = {\n",
    "    \"0\":\"0\",\n",
    "    \"1\":\"0\",\n",
    "    \"2\":\"0\",\n",
    "    \"3\":\"0\",\n",
    "    \"4\":\"1\",\n",
    "    \"5\":\"1\",\n",
    "    \"6\":\"1\",\n",
    "    \"7\":\"1\",\n",
    "    \"8\":\"2\",\n",
    "    \"9\":\"2\",\n",
    "    \"10\":\"2\",\n",
    "    \"11\":\"2\",\n",
    "    \"12\":\"3\",\n",
    "    \"13\":\"3\",\n",
    "    \"14\":\"3\",\n",
    "    \"15\":\"3\",\n",
    "    \"16\":\"4\",\n",
    "    \"17\":\"4\",\n",
    "    \"18\":\"4\",\n",
    "    \"19\":\"4\",\n",
    "    \"20\":\"5\",\n",
    "    \"21\":\"5\",\n",
    "    \"22\":\"5\",\n",
    "    \"23\":\"5\"\n",
    "}\n",
    "\n",
    "def timeslotMapping(value):\n",
    "    global timeslotDictionary\n",
    "    return timeslotDictionary[str(value)]\n",
    "    "
   ]
  },
  {
   "cell_type": "code",
   "execution_count": 3,
   "metadata": {},
   "outputs": [
    {
     "name": "stdout",
     "output_type": "stream",
     "text": [
      "s2 25.0\n",
      "s3 40.0\n",
      "s1 20.0\n",
      "s4 100.0\n",
      "s5 20.0\n"
     ]
    }
   ],
   "source": [
    "# Read the content of a log file\n",
    "neighborsRDD = sc.textFile(\"neighbors.txt\") # stationId,neighborstationId1 neighborstationId2 ...\n",
    "readingsRDD = sc.textFile(\"readings.txt\") # stationId,date,hour,minute,num_of_bikes,num_of_free_slots\n",
    "\n",
    "# Compute the percentage of critical situations for each station\n",
    "## A station is in a critical situtation if the number of free slots is below a threshold (eg 3 slots)\n",
    "## The percentage of critical situations for a station is defined as\n",
    "##     numOfCriticalReadingsAssociatedWithStation / totalNumberOfReadingsAssociatedWithStation\n",
    "\n",
    "freeSlotsThreshold = 3\n",
    "\n",
    "numberOfCriticalSituationsForStationRDD = readingsRDD.filter(lambda value: int(value.split(\",\")[5]) < freeSlotsThreshold).map(lambda value: (value.split(\",\")[0], 1)).groupByKey().map(lambda pair: (pair[0], len(list(pair[1]))) )    \n",
    "numberOfReadingsForStationRDD = readingsRDD.map(lambda value: (value.split(\",\")[0], 1)).groupByKey().map(lambda pair: (pair[0], len(list(pair[1]))) )\n",
    "\n",
    "joinReadingsRDD = numberOfCriticalSituationsForStationRDD.join(numberOfReadingsForStationRDD).map(lambda pair: (pair[0], (int(pair[1][0]) / int(pair[1][1]) ) * 100))\n",
    "\n",
    "for pair in joinReadingsRDD.collect():\n",
    "    print(pair[0], pair[1])\n",
    "    \n",
    "criticalSituationPercentageThreshold = 80\n",
    "outputJoinReadingsRDD = joinReadingsRDD.map(lambda pair: (pair[1], pair[0])).filter(lambda pair: pair[0] > criticalSituationPercentageThreshold).sortByKey().map(lambda pair: (pair[1], pair[0]))\n",
    "\n",
    "outputJoinReadingsRDD.saveAsTextFile(\"critical_situations_stations\")"
   ]
  },
  {
   "cell_type": "code",
   "execution_count": 4,
   "metadata": {},
   "outputs": [
    {
     "name": "stdout",
     "output_type": "stream",
     "text": [
      "('s1', '2') 100.0\n",
      "('s3', '2') 100.0\n",
      "('s3', '1') 25.0\n",
      "('s2', '2') 100.0\n",
      "('s4', '1') 100.0\n",
      "('s5', '1') 100.0\n"
     ]
    }
   ],
   "source": [
    "# Compute the percentage of critical situations for each pair (timeslot, station)\n",
    "## Timeslots can assume the following 6 values\n",
    "### [0-3]\n",
    "### [4-7]\n",
    "### [8-11]\n",
    "### [12-15] \n",
    "### [16-19] \n",
    "### [20-23]\n",
    "\n",
    "readingsTimeSlotRDD = readingsRDD.map(lambda value: value.split(\",\")[0] + \",\" + value.split(\",\")[1] + \",\" + value.split(\",\")[2] + \",\" + value.split(\",\")[3] +  \",\" + timeslotMapping(value.split(\",\")[4]) +  \",\" + value.split(\",\")[5])\n",
    "\n",
    "criticalSituationsForStationRDD = readingsTimeSlotRDD.filter(lambda value: int(value.split(\",\")[5]) < freeSlotsThreshold)\n",
    "numberOfCriticalSituationsForStationAndTimeslotRDD = criticalSituationsForStationRDD.map(lambda value: ((value.split(\",\")[0], value.split(\",\")[4]), 1)).groupByKey().map(lambda pair: (pair[0], len(list(pair[1]))))\n",
    "\n",
    "numberOfReadingsForStationAndTimeSlotRDD = readingsTimeSlotRDD.map(lambda value: ((value.split(\",\")[0], value.split(\",\")[4]), 1)).groupByKey().map(lambda pair: (pair[0], len(list(pair[1]))))\n",
    "    \n",
    "joinReadingsRDD = numberOfCriticalSituationsForStationAndTimeslotRDD.join(numberOfReadingsForStationAndTimeSlotRDD).map(lambda pair: (pair[0], (int(pair[1][0]) / int(pair[1][1]) ) * 100))\n",
    "\n",
    "for pair in joinReadingsRDD.collect():\n",
    "    print(pair[0], pair[1])\n",
    "    \n",
    "criticalSituationPercentageThreshold = 80\n",
    "outputJoinReadingsRDD = joinReadingsRDD.map(lambda pair: (pair[1], pair[0])).filter(lambda pair: pair[0] > criticalSituationPercentageThreshold).sortByKey().map(lambda pair: (pair[1], pair[0]))\n",
    "\n",
    "outputJoinReadingsRDD.saveAsTextFile(\"critical_situations_stations_timeslots\")"
   ]
  }
 ],
 "metadata": {
  "kernelspec": {
   "display_name": "Python 3",
   "language": "python",
   "name": "python3"
  },
  "language_info": {
   "codemirror_mode": {
    "name": "ipython",
    "version": 3
   },
   "file_extension": ".py",
   "mimetype": "text/x-python",
   "name": "python",
   "nbconvert_exporter": "python",
   "pygments_lexer": "ipython3",
   "version": "3.7.6"
  }
 },
 "nbformat": 4,
 "nbformat_minor": 4
}
