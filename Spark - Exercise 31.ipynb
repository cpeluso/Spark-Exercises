{
 "cells": [
  {
   "cell_type": "code",
   "execution_count": 1,
   "metadata": {},
   "outputs": [],
   "source": [
    "from pyspark import SparkConf, SparkContext\n",
    "import sys\n",
    "\n",
    "conf = SparkConf().setAppName(\"Spark Application\")\n",
    "sc = SparkContext(conf=conf)"
   ]
  },
  {
   "cell_type": "code",
   "execution_count": 3,
   "metadata": {},
   "outputs": [
    {
     "name": "stdout",
     "output_type": "stream",
     "text": [
      "66.249.69.97\n",
      "71.19.157.179\n"
     ]
    }
   ],
   "source": [
    "# Read the content of a log file\n",
    "inputRDD = sc.textFile(\"log.txt\")\n",
    "\n",
    "ipRDD = inputRDD.map(lambda x: x.split(\" \")[0]).distinct()\n",
    "\n",
    "for ip in ipRDD.collect():\n",
    "    print(ip)"
   ]
  }
 ],
 "metadata": {
  "kernelspec": {
   "display_name": "Python 3",
   "language": "python",
   "name": "python3"
  },
  "language_info": {
   "codemirror_mode": {
    "name": "ipython",
    "version": 3
   },
   "file_extension": ".py",
   "mimetype": "text/x-python",
   "name": "python",
   "nbconvert_exporter": "python",
   "pygments_lexer": "ipython3",
   "version": "3.7.6"
  }
 },
 "nbformat": 4,
 "nbformat_minor": 4
}
