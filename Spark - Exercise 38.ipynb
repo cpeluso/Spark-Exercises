{
 "cells": [
  {
   "cell_type": "code",
   "execution_count": 2,
   "metadata": {},
   "outputs": [],
   "source": [
    "from pyspark import SparkConf, SparkContext\n",
    "import sys\n",
    "\n",
    "conf = SparkConf().setAppName(\"Spark Application\")\n",
    "sc = SparkContext(conf=conf)"
   ]
  },
  {
   "cell_type": "code",
   "execution_count": 47,
   "metadata": {},
   "outputs": [
    {
     "name": "stdout",
     "output_type": "stream",
     "text": [
      "s1 2\n"
     ]
    }
   ],
   "source": [
    "# Read the content of a log file\n",
    "inputRDD = sc.textFile(\"sensors.txt\")\n",
    "\n",
    "# the sensors with at least 2 readings with a PM10 value greater than the critical threshold 50\n",
    "sensorsRDD = inputRDD.filter(lambda s: float(s.split(\",\")[2]) >= 50)\n",
    "\n",
    "map_sensorsRDD = sensorsRDD.map(lambda s: (s.split(\",\")[0], 1))\n",
    "\n",
    "sensorsCountsRDD = map_sensorsRDD.reduceByKey(lambda value1, value2: value1+value2)\n",
    "\n",
    "sensorsCountsCriticalRDD = sensorsCountsRDD.filter(lambda sensorCountPair: sensorCountPair[1]>=2)\n",
    "\n",
    "for s in sensorsCountsCriticalRDD.collect():\n",
    "    print(s[0], s[1])"
   ]
  }
 ],
 "metadata": {
  "kernelspec": {
   "display_name": "Python 3",
   "language": "python",
   "name": "python3"
  },
  "language_info": {
   "codemirror_mode": {
    "name": "ipython",
    "version": 3
   },
   "file_extension": ".py",
   "mimetype": "text/x-python",
   "name": "python",
   "nbconvert_exporter": "python",
   "pygments_lexer": "ipython3",
   "version": "3.7.6"
  }
 },
 "nbformat": 4,
 "nbformat_minor": 4
}
