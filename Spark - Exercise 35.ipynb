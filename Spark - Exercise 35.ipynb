{
 "cells": [
  {
   "cell_type": "code",
   "execution_count": 1,
   "metadata": {},
   "outputs": [],
   "source": [
    "from pyspark import SparkConf, SparkContext\n",
    "import sys\n",
    "\n",
    "conf = SparkConf().setAppName(\"Spark Application\")\n",
    "sc = SparkContext(conf=conf)"
   ]
  },
  {
   "cell_type": "code",
   "execution_count": 3,
   "metadata": {},
   "outputs": [
    {
     "name": "stdout",
     "output_type": "stream",
     "text": [
      "2016-01-02\n",
      "2016-01-05\n"
     ]
    }
   ],
   "source": [
    "# Read the content of a log file\n",
    "inputRDD = sc.textFile(\"sensors.txt\")\n",
    "\n",
    "sensorsRDD = inputRDD.map(lambda s: s.split(\",\")[2])\n",
    "\n",
    "max_value = sensorsRDD.reduce(lambda value1, value2: max(value1, value2))\n",
    "\n",
    "dates = inputRDD.filter(lambda s: s.split(\",\")[2] == max_value).map(lambda s: s.split(\",\")[1])\n",
    "\n",
    "for d in dates.collect():\n",
    "    print(d)\n"
   ]
  }
 ],
 "metadata": {
  "kernelspec": {
   "display_name": "Python 3",
   "language": "python",
   "name": "python3"
  },
  "language_info": {
   "codemirror_mode": {
    "name": "ipython",
    "version": 3
   },
   "file_extension": ".py",
   "mimetype": "text/x-python",
   "name": "python",
   "nbconvert_exporter": "python",
   "pygments_lexer": "ipython3",
   "version": "3.7.6"
  }
 },
 "nbformat": 4,
 "nbformat_minor": 4
}
