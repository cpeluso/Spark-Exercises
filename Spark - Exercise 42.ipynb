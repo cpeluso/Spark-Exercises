{
 "cells": [
  {
   "cell_type": "code",
   "execution_count": 1,
   "metadata": {},
   "outputs": [],
   "source": [
    "from pyspark import SparkConf, SparkContext\n",
    "import sys\n",
    "\n",
    "conf = SparkConf().setAppName(\"Spark Application\")\n",
    "sc = SparkContext(conf=conf)"
   ]
  },
  {
   "cell_type": "code",
   "execution_count": 12,
   "metadata": {},
   "outputs": [
    {
     "name": "stdout",
     "output_type": "stream",
     "text": [
      "Q2,Who invented .. ['John Smith']\n",
      "Q1,What is ..? ['It is ..', 'I think it is ..']\n"
     ]
    }
   ],
   "source": [
    "# Read the content of a log file\n",
    "questionsInputRDD = sc.textFile(\"questions.txt\")\n",
    "answersInputRDD = sc.textFile(\"answers.txt\")\n",
    "\n",
    "questionsPairRDD = questionsInputRDD.map(lambda value: ( value.split(\",\")[0], value.split(\",\")[2]) )\n",
    "answersPairRDD = answersInputRDD.map(lambda value: ( value.split(\",\")[1], value.split(\",\")[3]) )\n",
    "\n",
    "joinedRDD = questionsPairRDD.join(answersPairRDD).map(lambda pair: (pair[0] + \",\" + pair[1][0], pair[1][1])).groupByKey()\n",
    "\n",
    "\n",
    "for pair in joinedRDD.collect():\n",
    "    print(pair[0], [ans for ans in list(pair[1])])\n",
    "        "
   ]
  }
 ],
 "metadata": {
  "kernelspec": {
   "display_name": "Python 3",
   "language": "python",
   "name": "python3"
  },
  "language_info": {
   "codemirror_mode": {
    "name": "ipython",
    "version": 3
   },
   "file_extension": ".py",
   "mimetype": "text/x-python",
   "name": "python",
   "nbconvert_exporter": "python",
   "pygments_lexer": "ipython3",
   "version": "3.7.6"
  }
 },
 "nbformat": 4,
 "nbformat_minor": 4
}
