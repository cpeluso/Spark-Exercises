{
 "cells": [
  {
   "cell_type": "code",
   "execution_count": 1,
   "metadata": {},
   "outputs": [],
   "source": [
    "from pyspark import SparkConf, SparkContext\n",
    "import sys\n",
    "\n",
    "conf = SparkConf().setAppName(\"Spark Application\")\n",
    "sc = SparkContext(conf=conf)"
   ]
  },
  {
   "cell_type": "code",
   "execution_count": 99,
   "metadata": {},
   "outputs": [
    {
     "name": "stdout",
     "output_type": "stream",
     "text": [
      "user2\n",
      "user1\n"
     ]
    }
   ],
   "source": [
    "threshold = 0.0\n",
    "\n",
    "# movieid, movie-genre\n",
    "moviesRDD = sc.textFile(\"movies.txt\").map(lambda value: (value.split(\",\")[0], value.split(\",\")[2])) \n",
    "\n",
    "# userid,movie-genre\n",
    "preferencesRDD = sc.textFile(\"preferences.txt\").map(lambda value: (value.split(\",\")[0], value.split(\",\")[1]))\n",
    "\n",
    "# (movieid,userid)\n",
    "watchedMoviesRDD = sc.textFile(\"watchedmovies.txt\").map(lambda value: (value.split(\",\")[1], value.split(\",\")[0])) \n",
    "\n",
    "# (userid, [watched movie-genres])\n",
    "userMovieGenreRDD = watchedMoviesRDD.join(moviesRDD)\\\n",
    "    .map(lambda pair: (pair[1][0], pair[1][1]))\\\n",
    "    .groupByKey()\n",
    "\n",
    "userPreferencesMovieGenreRDD = preferencesRDD.groupByKey() # (userid, [preferred movie-genres])\n",
    "\n",
    "# ( userid, ([not distinct movie genres], [ preferred movie genres]))\n",
    "userMovieGenres = userPreferencesMovieGenreRDD.cogroup(userMovieGenreRDD) \n",
    "    \n",
    "users = userMovieGenres.filter(isUserMisleading).keys()\n",
    "        \n",
    "for user in users.collect():\n",
    "    print(user)"
   ]
  },
  {
   "cell_type": "code",
   "execution_count": 100,
   "metadata": {},
   "outputs": [],
   "source": [
    "def isUserMisleading(pair):\n",
    "    threshold = 0.5\n",
    "    \n",
    "    userId = pair[0]\n",
    "    listPreferenceMovieGenres = list(pair[1][0]) #list\n",
    "    listWatchedMovieGenres = list(pair[1][1]) #list\n",
    "\n",
    "    numberOfMoviesSeen = len(watchedMovieGenres)\n",
    "    \n",
    "    # number of films with movie genres not included in preferred movie genres / number of films seen\n",
    "    notPreferredGenresFilms = 0\n",
    "    \n",
    "    for watchedMovieGenres in listWatchedMovieGenres:\n",
    "        for movieGenre in watchedMovieGenres:\n",
    "            if movieGenre not in preferenceMovieGenres:\n",
    "                notPreferredGenresFilms += 1\n",
    "    \n",
    "    proportion = notPreferredGenresFilms / numberOfMoviesSeen\n",
    "    \n",
    "    if (proportion > threshold):\n",
    "        return True\n",
    "    else:\n",
    "        return False\n",
    "    \n",
    "    \n",
    "    "
   ]
  },
  {
   "cell_type": "code",
   "execution_count": null,
   "metadata": {},
   "outputs": [],
   "source": []
  }
 ],
 "metadata": {
  "kernelspec": {
   "display_name": "Python 3",
   "language": "python",
   "name": "python3"
  },
  "language_info": {
   "codemirror_mode": {
    "name": "ipython",
    "version": 3
   },
   "file_extension": ".py",
   "mimetype": "text/x-python",
   "name": "python",
   "nbconvert_exporter": "python",
   "pygments_lexer": "ipython3",
   "version": "3.7.6"
  }
 },
 "nbformat": 4,
 "nbformat_minor": 4
}
