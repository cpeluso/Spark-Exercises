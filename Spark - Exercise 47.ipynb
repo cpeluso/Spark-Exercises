{
 "cells": [
  {
   "cell_type": "code",
   "execution_count": 1,
   "metadata": {},
   "outputs": [],
   "source": [
    "from pyspark.sql import SparkSession\n",
    "\n",
    "spark = SparkSession.builder.getOrCreate()"
   ]
  },
  {
   "cell_type": "code",
   "execution_count": 26,
   "metadata": {},
   "outputs": [
    {
     "name": "stdout",
     "output_type": "stream",
     "text": [
      "Row(name='John', age=41)\n",
      "Row(name='Paul', age=41)\n",
      "Row(name='David', age=16)\n"
     ]
    }
   ],
   "source": [
    "# Create a DataFrame for \"persons.csv\"\n",
    "df = spark.read.load(\"persons.csv\", format = \"csv\", header = True, inferSchema = True) \n",
    "\n",
    "filteredDf = df\\\n",
    "\t.selectExpr(\"name\", \"age + 1 as age\" , \"gender\")\\\n",
    "\t.filter((df.gender == \"male\"))\\\n",
    "\t.select(\"name\", \"age\")\\\n",
    "\t.sort([\"age\", \"name\"], ascending=[0, 1])\n",
    "\n",
    "for row in filteredDf.rdd.collect():\n",
    "    print(row)\n"
   ]
  },
  {
   "cell_type": "code",
   "execution_count": 31,
   "metadata": {},
   "outputs": [
    {
     "name": "stdout",
     "output_type": "stream",
     "text": [
      "Row(name='John', age=41)\n",
      "Row(name='Paul', age=41)\n",
      "Row(name='David', age=16)\n"
     ]
    }
   ],
   "source": [
    "table = df.createOrReplaceTempView(\"Persons\")\n",
    "\n",
    "filteredTable = spark.sql(\"SELECT name, age + 1 as age FROM Persons p WHERE gender = \\\"male\\\" ORDER BY age DESC, name\")\n",
    "\n",
    "for row in filteredTable.rdd.collect():\n",
    "    print(row)\n"
   ]
  },
  {
   "cell_type": "code",
   "execution_count": null,
   "metadata": {},
   "outputs": [],
   "source": [
    "spark.stop()"
   ]
  }
 ],
 "metadata": {
  "kernelspec": {
   "display_name": "Python 3",
   "language": "python",
   "name": "python3"
  },
  "language_info": {
   "codemirror_mode": {
    "name": "ipython",
    "version": 3
   },
   "file_extension": ".py",
   "mimetype": "text/x-python",
   "name": "python",
   "nbconvert_exporter": "python",
   "pygments_lexer": "ipython3",
   "version": "3.7.6"
  }
 },
 "nbformat": 4,
 "nbformat_minor": 4
}
