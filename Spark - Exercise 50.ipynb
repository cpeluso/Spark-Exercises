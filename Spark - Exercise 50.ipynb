{
 "cells": [
  {
   "cell_type": "code",
   "execution_count": 1,
   "metadata": {},
   "outputs": [],
   "source": [
    "from pyspark.sql import SparkSession\n",
    "\n",
    "spark = SparkSession.builder.getOrCreate()"
   ]
  },
  {
   "cell_type": "code",
   "execution_count": 5,
   "metadata": {},
   "outputs": [
    {
     "name": "stdout",
     "output_type": "stream",
     "text": [
      "Paolo Garza\n",
      "Luca Boccia\n",
      "Maura Bianchi\n"
     ]
    }
   ],
   "source": [
    "dfProfiles = spark.read.load(\"profiles.csv\", format =\"csv\", header=True, inferSchema = True)\n",
    "\n",
    "profilesRDD = dfProfiles.rdd\n",
    "\n",
    "mappedProfilesRDD = profilesRDD.map(lambda row: row[\"name\"] + \" \" + row[\"surname\"])\n",
    "\n",
    "for profile in mappedProfilesRDD.collect():\n",
    "    print(profile)"
   ]
  }
 ],
 "metadata": {
  "kernelspec": {
   "display_name": "Python 3",
   "language": "python",
   "name": "python3"
  },
  "language_info": {
   "codemirror_mode": {
    "name": "ipython",
    "version": 3
   },
   "file_extension": ".py",
   "mimetype": "text/x-python",
   "name": "python",
   "nbconvert_exporter": "python",
   "pygments_lexer": "ipython3",
   "version": "3.7.6"
  }
 },
 "nbformat": 4,
 "nbformat_minor": 4
}
